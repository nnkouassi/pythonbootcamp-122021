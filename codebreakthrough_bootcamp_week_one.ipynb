{
  "nbformat": 4,
  "nbformat_minor": 0,
  "metadata": {
    "colab": {
      "name": "codebreakthrough_Bootcamp.ipynb",
      "provenance": [],
      "collapsed_sections": [],
      "authorship_tag": "ABX9TyMlN81+XghIfYYPttx1BLw8",
      "include_colab_link": true
    },
    "kernelspec": {
      "name": "python3",
      "display_name": "Python 3"
    },
    "language_info": {
      "name": "python"
    }
  },
  "cells": [
    {
      "cell_type": "markdown",
      "metadata": {
        "id": "view-in-github",
        "colab_type": "text"
      },
      "source": [
        "<a href=\"https://colab.research.google.com/github/nnkouassi/pythonbootcamp-122021/blob/main/codebreakthrough_bootcamp_week_one.ipynb\" target=\"_parent\"><img src=\"https://colab.research.google.com/assets/colab-badge.svg\" alt=\"Open In Colab\"/></a>"
      ]
    },
    {
      "cell_type": "code",
      "metadata": {
        "colab": {
          "base_uri": "https://localhost:8080/"
        },
        "id": "a3O0OqDo53AO",
        "outputId": "83adf460-86bb-4d2a-bb36-617e6e464b69"
      },
      "source": [
        "import requests\n",
        "response = requests.get('https://uselessfacts.jsph.pl/random.json?language=en')\n",
        "print(response.text)"
      ],
      "execution_count": null,
      "outputs": [
        {
          "output_type": "stream",
          "name": "stdout",
          "text": [
            "{\"id\":\"6e3d70b1-691c-4b2c-8e50-ebcab5ac1280\",\"text\":\"There are 1 million ants for every human in the world.\",\"source\":\"djtech.net\",\"source_url\":\"http:\\/\\/www.djtech.net\\/humor\\/useless_facts.htm\",\"language\":\"en\",\"permalink\":\"https:\\/\\/uselessfacts.jsph.pl\\/6e3d70b1-691c-4b2c-8e50-ebcab5ac1280\"}\n"
          ]
        }
      ]
    },
    {
      "cell_type": "markdown",
      "metadata": {
        "id": "_ty-IlsAhgt7"
      },
      "source": [
        "Bellow we go through a variation of the above code.  In this example we define our **query pqrameters** in a separate dictionary.  This is then passed as an argument to the **params** parameter of requests.get().  \n",
        "We also use **response.json()** instead of response.text() to get the response data as a dictionary.  \n",
        "Python dictionaries have a **.get()** method that can be used to grab a particularelement, such as 'text' (this value depends on the API we are consuming).\n"
      ]
    },
    {
      "cell_type": "code",
      "metadata": {
        "colab": {
          "base_uri": "https://localhost:8080/"
        },
        "id": "WkRAWBGK7_9U",
        "outputId": "9e69c40a-2abc-4a96-cb74-cf78c2ac7b92"
      },
      "source": [
        "query_parameters={\n",
        "    'language':'en'\n",
        "}\n",
        "response = requests.get('https://uselessfacts.jsph.pl/random.json',params=query_parameters)\n",
        "print(response.json().get('text'))"
      ],
      "execution_count": null,
      "outputs": [
        {
          "output_type": "stream",
          "name": "stdout",
          "text": [
            "Odds of being killed by lightening? 1 in 2million/killed in a car crash? 1 in 5,000/killed by falling out of bed? 1 in 2million/killed in a plane crash? 1 in 25 million.\n"
          ]
        }
      ]
    },
    {
      "cell_type": "markdown",
      "metadata": {
        "id": "UT7nPXBckMRy"
      },
      "source": [
        "#Data Structures\n",
        "The important ones ares lists, dictionaries and sets."
      ]
    },
    {
      "cell_type": "code",
      "metadata": {
        "colab": {
          "base_uri": "https://localhost:8080/"
        },
        "id": "37xrD6xxjhI9",
        "outputId": "57d3bd1e-0a2a-49b7-98ea-1072efa07348"
      },
      "source": [
        "data = ['Caleb', 'You']\n",
        "print(data[1])\n",
        "\n",
        "data.append('Jimmy')\n",
        "\n",
        "data.append(['hello'])\n",
        "data.append(5)\n",
        "\n",
        "print(data)"
      ],
      "execution_count": null,
      "outputs": [
        {
          "output_type": "stream",
          "name": "stdout",
          "text": [
            "You\n",
            "['Caleb', 'You', 'Jimmy', ['hello'], 5]\n"
          ]
        }
      ]
    },
    {
      "cell_type": "markdown",
      "metadata": {
        "id": "QLZozPR_LxEU"
      },
      "source": [
        "# List Slicing\n",
        "The fisrt number - starting position (inclusive)  \n",
        "The second number - stopping position (exclusive)  \n",
        "The thrird number - step  "
      ]
    },
    {
      "cell_type": "code",
      "metadata": {
        "colab": {
          "base_uri": "https://localhost:8080/"
        },
        "id": "Ad5rKRtkpvpY",
        "outputId": "ee53a78b-46ad-466c-df1e-b2a37d4197b7"
      },
      "source": [
        "data = ['Caleb', 'Jimmy', 'Samantha', 'Monica']\n",
        "\n",
        "print(data[1:4:2])"
      ],
      "execution_count": 5,
      "outputs": [
        {
          "output_type": "stream",
          "name": "stdout",
          "text": [
            "['Jimmy', 'Monica']\n"
          ]
        }
      ]
    },
    {
      "cell_type": "markdown",
      "metadata": {
        "id": "eCwu4U7cN0hK"
      },
      "source": [
        "# Dictionaries and Sets\n"
      ]
    },
    {
      "cell_type": "code",
      "metadata": {
        "id": "1iqLk0zrqpto",
        "colab": {
          "base_uri": "https://localhost:8080/"
        },
        "outputId": "55b00928-b843-42ec-b5f8-d2650e0ea2b6"
      },
      "source": [
        "data = {'Caleb', 'Jimmy', 'Samantha', 'Monica', 'Caleb'}\n",
        "\n",
        "data_dictionary = {\n",
        "    'Caleb': 5,\n",
        "    'Jimmy': 10,\n",
        "    'Samantha': 12,\n",
        "    'Monica': 20,\n",
        "    'Caleb': 4\n",
        "}\n",
        "\n",
        "print(data)\n",
        "print(data_dictionary.get('Caleb'))"
      ],
      "execution_count": 7,
      "outputs": [
        {
          "output_type": "stream",
          "name": "stdout",
          "text": [
            "{'Jimmy', 'Monica', 'Samantha', 'Caleb'}\n",
            "4\n"
          ]
        }
      ]
    },
    {
      "cell_type": "markdown",
      "metadata": {
        "id": "suolTC9cP9hL"
      },
      "source": [
        "# Control flow - Loops and Conditionals\n",
        "Iteration - One time through the loop"
      ]
    },
    {
      "cell_type": "code",
      "metadata": {
        "colab": {
          "base_uri": "https://localhost:8080/"
        },
        "id": "x-zLK-EsPQnp",
        "outputId": "1c65fc28-ae33-416f-a812-6038a5ff3cea"
      },
      "source": [
        "data = ['a', 'b', 'c', 'd', 'e']\n",
        "\n",
        "#To be used to modify the list as you go through it or simply iterate through some numbers\n",
        "for i in range(10):\n",
        "  print(i, end=\" \")\n",
        "\n",
        "#To be used to do something with the list elements\n",
        "print(\" \")\n",
        "for letter in data:\n",
        "  print(letter, end=\" \")\n",
        "\n",
        "#To be used to do something with the list indexes and elements\n",
        "print(\" \")\n",
        "for i, letter in enumerate(data):\n",
        "  print(i,letter, end=\" \")"
      ],
      "execution_count": 21,
      "outputs": [
        {
          "output_type": "stream",
          "name": "stdout",
          "text": [
            "0 1 2 3 4 5 6 7 8 9  \n",
            "a b c d e  \n",
            "0 a 1 b 2 c 3 d 4 e "
          ]
        }
      ]
    },
    {
      "cell_type": "code",
      "metadata": {
        "colab": {
          "base_uri": "https://localhost:8080/"
        },
        "id": "gIiaYRwaQRG4",
        "outputId": "a284a45f-5d92-4197-9244-88325c99a22f"
      },
      "source": [
        "data = ['a', 'b', 'c', 'd', 'e']\n",
        "\n",
        "i = 0\n",
        "\n",
        "while i < len(data):\n",
        "  print(data[i], end=\" \")\n",
        "  i += 1\n",
        "\n",
        "while True:\n",
        "    x = input()\n",
        "    if x == \"stop\":\n",
        "      break\n",
        "    elif x == \"special\":\n",
        "      continue\n",
        "    print(\"it wasnt stop or special\")\n",
        "    print(\"printing data ....\")"
      ],
      "execution_count": 25,
      "outputs": [
        {
          "name": "stdout",
          "output_type": "stream",
          "text": [
            "a b c d e hello\n",
            "it wasnt stop or special\n",
            "printing data ....\n",
            "special\n",
            "stop\n"
          ]
        }
      ]
    },
    {
      "cell_type": "code",
      "metadata": {
        "colab": {
          "base_uri": "https://localhost:8080/"
        },
        "id": "e2eyHyL1VxWw",
        "outputId": "ea83a193-2375-4609-c4f7-4143680f97fa"
      },
      "source": [
        "data_dictionary = {\n",
        "    'Caleb': 5,\n",
        "    'Jimmy': 10,\n",
        "    'Samantha': 12,\n",
        "    'Monica': 20,\n",
        "    'Caleb': 4\n",
        "}\n",
        "for key, value in data_dictionary.items():\n",
        "  print(key, value)"
      ],
      "execution_count": 27,
      "outputs": [
        {
          "output_type": "stream",
          "name": "stdout",
          "text": [
            "Caleb 4\n",
            "Jimmy 10\n",
            "we found 12\n"
          ]
        }
      ]
    },
    {
      "cell_type": "markdown",
      "metadata": {
        "id": "32ZWhGbd3o2p"
      },
      "source": [
        "# Guessing game\n",
        "Generate a random number -- random module\n",
        "do while - Python doesn't have this built in.\n",
        "do something once -- possibly repeat it.\n",
        "Ask us for a number. If we get it wrong, ask again\n",
        "\n",
        "logic for right/wrong: guesssed == correct value\n"
      ]
    },
    {
      "cell_type": "code",
      "metadata": {
        "colab": {
          "base_uri": "https://localhost:8080/"
        },
        "id": "K-OaQtCF2_9o",
        "outputId": "aff57227-cfec-403a-dc09-8b02acc3783e"
      },
      "source": [
        "import random\n",
        "\n",
        "low = 0\n",
        "high = 100\n",
        "correct = random.randint(low, high)\n",
        "print(f'Guess a number between {low} and {high}.')\n",
        "while True:\n",
        "  guess = int(input())   \n",
        "  if guess < correct:\n",
        "    print('Guess higher')\n",
        "  elif guess > correct:\n",
        "    print('Guess lower')\n",
        "  else: \n",
        "    print('You Win')\n",
        "    break  "
      ],
      "execution_count": 39,
      "outputs": [
        {
          "output_type": "stream",
          "name": "stdout",
          "text": [
            "Guess a number between 0 and 100.\n",
            "50\n",
            "Guess lower\n",
            "25\n",
            "Guess higher\n",
            "38\n",
            "Guess lower\n",
            "30\n",
            "Guess higher\n",
            "34\n",
            "Guess higher\n",
            "36\n",
            "Guess higher\n",
            "37\n",
            "You Win\n"
          ]
        }
      ]
    },
    {
      "cell_type": "code",
      "metadata": {
        "colab": {
          "base_uri": "https://localhost:8080/"
        },
        "id": "l6Pvb_-FBjy3",
        "outputId": "7b0aee4c-25df-4826-f57b-d3fd8b0f9d4a"
      },
      "source": [
        "print('Done')"
      ],
      "execution_count": 40,
      "outputs": [
        {
          "output_type": "stream",
          "name": "stdout",
          "text": [
            "Done\n"
          ]
        }
      ]
    }
  ]
}